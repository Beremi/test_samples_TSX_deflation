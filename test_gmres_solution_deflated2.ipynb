{
 "cells": [
  {
   "cell_type": "code",
   "execution_count": 1,
   "metadata": {},
   "outputs": [],
   "source": [
    "from operators import BlockMatrixOperator, BlockTriangularPreconditioner\n",
    "from tunnel_with_subdomains import load_matrices_from_hdf5, load_vectors_from_hdf5\n",
    "\n",
    "problem_no = 19\n",
    "path_to_data = f\"exported_data/testrun_{problem_no}/\"\n",
    "\n",
    "# loading\n",
    "A_blocks = load_matrices_from_hdf5(f\"{path_to_data}data_as_blocks.h5\")\n",
    "Ptdiagblocks = load_matrices_from_hdf5(f\"{path_to_data}data_diag_preco.h5\")\n",
    "Ptblocks = load_matrices_from_hdf5(f\"{path_to_data}data_triang_preco.h5\")\n",
    "rhs_u, rhs_p = load_vectors_from_hdf5(f\"{path_to_data}data_rhs.h5\")  # each rhs_* is a list of ndarrays\n",
    "sol_u, sol_p = load_vectors_from_hdf5(f\"{path_to_data}data_sol.h5\")  # each rhs_* is a list of ndarrays"
   ]
  },
  {
   "cell_type": "code",
   "execution_count": 2,
   "metadata": {},
   "outputs": [],
   "source": [
    "import numpy as np\n",
    "from numpy.linalg import norm\n",
    "from scipy.sparse.linalg import gmres, LinearOperator\n",
    "\n",
    "A_mat = BlockMatrixOperator(A_blocks)\n",
    "Pt_inv = BlockTriangularPreconditioner(Ptblocks, False)\n",
    "# Pt_inv = BlockTriangularPreconditioner(Ptdiagblocks, False)\n",
    "\n",
    "# Define the preconditioned operator\n",
    "A = LinearOperator(A_mat.shape, matvec=A_mat)\n",
    "M = LinearOperator(Pt_inv.shape, matvec=Pt_inv)"
   ]
  },
  {
   "cell_type": "code",
   "execution_count": 3,
   "metadata": {},
   "outputs": [],
   "source": [
    "import numpy as np\n",
    "\n",
    "\n",
    "def fgmres(A, b, M, maxits=1000, tol=1e-6, x0=None):\n",
    "    n = len(b)\n",
    "    x = np.zeros(n) if x0 is None else x0.copy()\n",
    "\n",
    "    # Initial residual with left preconditioning: r0 = M(b - A*x)\n",
    "    r0 = M(b - A(x))\n",
    "    b_norm = np.linalg.norm(M(b)) or 1.0\n",
    "    res_norm = np.linalg.norm(r0)\n",
    "    res_hist = [res_norm / b_norm]\n",
    "\n",
    "    if res_hist[-1] < tol:\n",
    "        return x, 0, res_hist\n",
    "\n",
    "    V = np.zeros((n, maxits + 1))\n",
    "    H = np.zeros((maxits + 1, maxits))\n",
    "\n",
    "    V[:, 0] = r0 / res_norm\n",
    "    g = np.zeros(maxits + 1)\n",
    "    g[0] = res_norm\n",
    "\n",
    "    for j in range(maxits):\n",
    "        # Apply A to basis vector\n",
    "        u = M(A(V[:, j]))  # Left-preconditioned: M*A*v\n",
    "\n",
    "        # Arnoldi orthogonalization\n",
    "        for i in range(j + 1):\n",
    "            H[i, j] = np.dot(V[:, i], u)\n",
    "            u -= H[i, j] * V[:, i]\n",
    "\n",
    "        H[j + 1, j] = np.linalg.norm(u)\n",
    "\n",
    "        # Check for happy breakdown\n",
    "        if H[j + 1, j] < 1e-14:\n",
    "            break\n",
    "\n",
    "        V[:, j + 1] = u / H[j + 1, j]\n",
    "\n",
    "        # Solve small least-squares problem\n",
    "        y, *_ = np.linalg.lstsq(H[:j + 2, :j + 1], g[:j + 2], rcond=None)\n",
    "        res_norm = np.linalg.norm(g[:j + 2] - H[:j + 2, :j + 1] @ y)\n",
    "        res_hist.append(res_norm / b_norm)\n",
    "\n",
    "        if res_hist[-1] < tol:\n",
    "            break\n",
    "\n",
    "    # Explicit final solution reconstruction\n",
    "    iters = j + 1\n",
    "    dx = V[:, :iters] @ y\n",
    "    x += dx\n",
    "\n",
    "    return x, iters, res_hist"
   ]
  },
  {
   "cell_type": "code",
   "execution_count": null,
   "metadata": {},
   "outputs": [],
   "source": [
    "import numpy as np\n",
    "\n",
    "def fgmres_deflated(A, b, M, U=None, maxits=1000, tol=1e-6, x0=None):\n",
    "    n = len(b)\n",
    "    x0 = np.zeros(n) if x0 is None else x0.copy()\n",
    "\n",
    "    # Deflation (coarse-space solution)\n",
    "    if U is not None:\n",
    "        AU = np.column_stack([A(U[:, i]) for i in range(U.shape[1])])\n",
    "        AT_AU = np.column_stack([A(AU[:, i]) for i in range(U.shape[1])])\n",
    "        \n",
    "        # Coarse operator: Uᵀ Aᵀ A U\n",
    "        Ac = U.T @ AT_AU if (AT_AU := AT_AU := np.column_stack([A(AU[:, i]) for i in range(U.shape[1])])) is not None else None\n",
    "        Ac_inv = np.linalg.inv(Ac)\n",
    "\n",
    "        # Precompute for projector\n",
    "        def P(v):\n",
    "            Av = A(v)\n",
    "            correction = AU @ (Ac_inv @ (U.T @ A(Av)))\n",
    "            return v - correction\n",
    "        \n",
    "        AU = np.column_stack([A(U[:, i]) for i in range(U.shape[1])])\n",
    "        AT_AU = np.column_stack([A(AU[:, i]) for i in range(U.shape[1])])\n",
    "        Ac = U.T @ AT_AU\n",
    "        Ac_inv = np.linalg.inv(Ac)\n",
    "\n",
    "        def P(v):\n",
    "            Av = A(v)\n",
    "            correction = AU @ (Ac @ (U.T @ A(v)))\n",
    "            return v - correction\n",
    "\n",
    "        # Coarse solution x_c = U (Uᵀ Aᵀ A U)^{-1} Uᵀ Aᵀ b\n",
    "        x_c = U @ (np.linalg.solve(Ac, U.T @ A(b)))\n",
    "\n",
    "    else:\n",
    "        # No deflation\n",
    "        x_c = np.zeros(n)\n",
    "        def P(v):\n",
    "            return v\n",
    "\n",
    "    # Initialize\n",
    "    x0 = np.zeros(n) if x0 is None else x0.copy()\n",
    "    r0 = P(M(b - A(x0 + x_c)))\n",
    "    res_norm = np.linalg.norm(r0)\n",
    "    b_norm = np.linalg.norm(P(M(b))) or 1.0\n",
    "    res_hist = [res_norm / b_norm]\n",
    "\n",
    "    if res_hist := res_norm / b_norm < tol:\n",
    "        return x0 + x_c, 0, res_hist\n",
    "\n",
    "    V = np.zeros((n, maxits + 1))\n",
    "    H = np.zeros((maxits + 1, maxits))\n",
    "\n",
    "    V[:, 0] = r0 = r0 / res_norm\n",
    "    g = np.zeros(maxits + 1)\n",
    "    g[0] = res_norm\n",
    "\n",
    "    for j in range(maxits):\n",
    "        # Arnoldi iteration with deflated operator\n",
    "        u = P(M(A(V[:, j])))\n",
    "\n",
    "        for i in range(j + 1):\n",
    "            H[i, j] = np.dot(V[:, i], u)\n",
    "            u -= H[i, j] * V[:, i]\n",
    "\n",
    "        H[j + 1, j] = np.linalg.norm(u)\n",
    "\n",
    "        if H[j + 1, j] < 1e-14:\n",
    "            break\n",
    "\n",
    "        V[:, j + 1] = u / H[j + 1, j]\n",
    "\n",
    "        # Solve least-squares problem\n",
    "        y, *_ = np.linalg.lstsq(H[:j + 2, :j + 1], g[:j + 2], rcond=None)\n",
    "        res_norm = np.linalg.norm(g[:j + 2] - H[:j + 2, :j + 1] @ y)\n",
    "        res_hist.append(res_norm / b_norm)\n",
    "\n",
    "        if res_hist[-1] < tol:\n",
    "            break\n",
    "\n",
    "    # Final fine-space solution reconstruction\n",
    "    x_fine = V[:, :j + 1] @ y\n",
    "\n",
    "    # Final solution (coarse + fine)\n",
    "    x_final = x0 + x_c + x_fine\n",
    "\n",
    "    return x_final, j + 1, res_hist\n"
   ]
  },
  {
   "cell_type": "code",
   "execution_count": 10,
   "metadata": {},
   "outputs": [
    {
     "name": "stdout",
     "output_type": "stream",
     "text": [
      "Index 0: 1, nan, nan nan\n"
     ]
    },
    {
     "ename": "IndexError",
     "evalue": "list index out of range",
     "output_type": "error",
     "traceback": [
      "\u001b[0;31m---------------------------------------------------------------------------\u001b[0m",
      "\u001b[0;31mIndexError\u001b[0m                                Traceback (most recent call last)",
      "Cell \u001b[0;32mIn[10], line 25\u001b[0m\n\u001b[1;32m     14\u001b[0m sol_vec \u001b[38;5;241m=\u001b[39m np\u001b[38;5;241m.\u001b[39mconcatenate([sol_u[index], sol_p[index]])\n\u001b[1;32m     16\u001b[0m \u001b[38;5;66;03m# Define a callback function to store residuals\u001b[39;00m\n\u001b[1;32m     17\u001b[0m \u001b[38;5;66;03m# residuals = []\u001b[39;00m\n\u001b[1;32m     18\u001b[0m \u001b[38;5;66;03m# def callback(resid):\u001b[39;00m\n\u001b[0;32m   (...)\u001b[0m\n\u001b[1;32m     23\u001b[0m \u001b[38;5;66;03m# # Solve the system using GMRES\u001b[39;00m\n\u001b[1;32m     24\u001b[0m \u001b[38;5;66;03m# x_sol, info = gmres(A, rhs_vec, M=M, rtol=1e-16, maxiter=maxit, callback=callback, x0=x_sol)\u001b[39;00m\n\u001b[0;32m---> 25\u001b[0m x_sol, num_iterations, residuals \u001b[38;5;241m=\u001b[39m \u001b[43mfgmres_deflated\u001b[49m\u001b[43m(\u001b[49m\u001b[43mA\u001b[49m\u001b[43m,\u001b[49m\u001b[43m \u001b[49m\u001b[43mrhs_vec\u001b[49m\u001b[43m,\u001b[49m\u001b[43m \u001b[49m\u001b[43mM\u001b[49m\u001b[43m,\u001b[49m\u001b[43m \u001b[49m\u001b[43mmaxits\u001b[49m\u001b[38;5;241;43m=\u001b[39;49m\u001b[38;5;241;43m30\u001b[39;49m\u001b[43m,\u001b[49m\u001b[43m \u001b[49m\u001b[43mtol\u001b[49m\u001b[38;5;241;43m=\u001b[39;49m\u001b[38;5;241;43m1e-10\u001b[39;49m\u001b[43m,\u001b[49m\u001b[43m \u001b[49m\u001b[43mU\u001b[49m\u001b[38;5;241;43m=\u001b[39;49m\u001b[43mZ\u001b[49m\u001b[43m)\u001b[49m\n\u001b[1;32m     26\u001b[0m \u001b[38;5;28;01mif\u001b[39;00m norm(x_sol) \u001b[38;5;241m>\u001b[39m \u001b[38;5;241m0\u001b[39m:\n\u001b[1;32m     27\u001b[0m     Z_list\u001b[38;5;241m.\u001b[39mappend(x_sol)\n",
      "Cell \u001b[0;32mIn[9], line 81\u001b[0m, in \u001b[0;36mfgmres_deflated\u001b[0;34m(A, b, M, U, maxits, tol, x0)\u001b[0m\n\u001b[1;32m     78\u001b[0m     W_list\u001b[38;5;241m.\u001b[39mappend(w_j)\n\u001b[1;32m     80\u001b[0m \u001b[38;5;66;03m# Final solution reconstruction (fine space)\u001b[39;00m\n\u001b[0;32m---> 81\u001b[0m x_fine \u001b[38;5;241m=\u001b[39m \u001b[38;5;28;43msum\u001b[39;49m\u001b[43m(\u001b[49m\u001b[43my\u001b[49m\u001b[43m[\u001b[49m\u001b[43mi\u001b[49m\u001b[43m]\u001b[49m\u001b[43m \u001b[49m\u001b[38;5;241;43m*\u001b[39;49m\u001b[43m \u001b[49m\u001b[43mW_list\u001b[49m\u001b[43m[\u001b[49m\u001b[43mi\u001b[49m\u001b[43m]\u001b[49m\u001b[43m \u001b[49m\u001b[38;5;28;43;01mfor\u001b[39;49;00m\u001b[43m \u001b[49m\u001b[43mi\u001b[49m\u001b[43m \u001b[49m\u001b[38;5;129;43;01min\u001b[39;49;00m\u001b[43m \u001b[49m\u001b[38;5;28;43mrange\u001b[39;49m\u001b[43m(\u001b[49m\u001b[43mj\u001b[49m\u001b[43m \u001b[49m\u001b[38;5;241;43m+\u001b[39;49m\u001b[43m \u001b[49m\u001b[38;5;241;43m1\u001b[39;49m\u001b[43m)\u001b[49m\u001b[43m)\u001b[49m\n\u001b[1;32m     83\u001b[0m \u001b[38;5;66;03m# Complete solution (initial guess + coarse solution + fine correction)\u001b[39;00m\n\u001b[1;32m     84\u001b[0m x_final \u001b[38;5;241m=\u001b[39m x0 \u001b[38;5;241m+\u001b[39m x_c \u001b[38;5;241m+\u001b[39m x_fine\n",
      "Cell \u001b[0;32mIn[9], line 81\u001b[0m, in \u001b[0;36m<genexpr>\u001b[0;34m(.0)\u001b[0m\n\u001b[1;32m     78\u001b[0m     W_list\u001b[38;5;241m.\u001b[39mappend(w_j)\n\u001b[1;32m     80\u001b[0m \u001b[38;5;66;03m# Final solution reconstruction (fine space)\u001b[39;00m\n\u001b[0;32m---> 81\u001b[0m x_fine \u001b[38;5;241m=\u001b[39m \u001b[38;5;28msum\u001b[39m(y[i] \u001b[38;5;241m*\u001b[39m \u001b[43mW_list\u001b[49m\u001b[43m[\u001b[49m\u001b[43mi\u001b[49m\u001b[43m]\u001b[49m \u001b[38;5;28;01mfor\u001b[39;00m i \u001b[38;5;129;01min\u001b[39;00m \u001b[38;5;28mrange\u001b[39m(j \u001b[38;5;241m+\u001b[39m \u001b[38;5;241m1\u001b[39m))\n\u001b[1;32m     83\u001b[0m \u001b[38;5;66;03m# Complete solution (initial guess + coarse solution + fine correction)\u001b[39;00m\n\u001b[1;32m     84\u001b[0m x_final \u001b[38;5;241m=\u001b[39m x0 \u001b[38;5;241m+\u001b[39m x_c \u001b[38;5;241m+\u001b[39m x_fine\n",
      "\u001b[0;31mIndexError\u001b[0m: list index out of range"
     ]
    }
   ],
   "source": [
    "iter_list = []\n",
    "res_list = []\n",
    "true_res_list = []\n",
    "err_list = []\n",
    "Z = None\n",
    "Z_list = []\n",
    "x_sol = None\n",
    "\n",
    "warm_up = 10\n",
    "maxit = 8\n",
    "\n",
    "for index in range(716):\n",
    "    rhs_vec = np.concatenate([rhs_u[index], rhs_p[index]])\n",
    "    sol_vec = np.concatenate([sol_u[index], sol_p[index]])\n",
    "\n",
    "    # Define a callback function to store residuals\n",
    "    # residuals = []\n",
    "    # def callback(resid):\n",
    "    #     residuals.append(resid)\n",
    "\n",
    "    # if index > 0 and res_list[-1] < 1e-10:\n",
    "    #     maxit -= 1\n",
    "    # # Solve the system using GMRES\n",
    "    # x_sol, info = gmres(A, rhs_vec, M=M, rtol=1e-16, maxiter=maxit, callback=callback, x0=x_sol)\n",
    "    x_sol, num_iterations, residuals = fgmres_deflated(A, rhs_vec, M, maxits=30, tol=1e-10, U=Z)\n",
    "    if norm(x_sol) > 0:\n",
    "        Z_list.append(x_sol)\n",
    "        Z = np.column_stack(Z_list)\n",
    "        Z, _ = np.linalg.qr(Z, mode='reduced')\n",
    "    # Extract number of iterations (info > 0 indicates it stopped at maxit)\n",
    "    num_iterations = len(residuals)\n",
    "\n",
    "    iter_list.append(num_iterations)\n",
    "    res_list.append(norm(M(A(x_sol) - rhs_vec)) / norm(rhs_vec))\n",
    "    true_res_list.append(norm(M(A(sol_vec) - rhs_vec)) / norm(rhs_vec))\n",
    "    err_list.append(norm(x_sol - sol_vec) / norm(sol_vec))\n",
    "    print(f\"Index {index}: {iter_list[-1]}, {res_list[-1]}, {err_list[-1]} {true_res_list[-1]}\")"
   ]
  },
  {
   "cell_type": "code",
   "execution_count": 8,
   "metadata": {},
   "outputs": [
    {
     "data": {
      "text/plain": [
       "[<matplotlib.lines.Line2D at 0x75c8648586e0>]"
      ]
     },
     "execution_count": 8,
     "metadata": {},
     "output_type": "execute_result"
    },
    {
     "data": {
      "image/png": "[encoded data removed]",
      "text/plain": [
       "<Figure size 640x480 with 1 Axes>"
      ]
     },
     "metadata": {},
     "output_type": "display_data"
    }
   ],
   "source": [
    "import matplotlib.pyplot as plt\n",
    "plt.semilogy(residuals)"
   ]
  },
  {
   "cell_type": "code",
   "execution_count": 26,
   "metadata": {},
   "outputs": [
    {
     "data": {
      "image/png": "[encoded data removed]",
      "text/plain": [
       "<Figure size 640x480 with 1 Axes>"
      ]
     },
     "metadata": {},
     "output_type": "display_data"
    },
    {
     "data": {
      "image/png": "[encoded data removed]",
      "text/plain": [
       "<Figure size 640x480 with 1 Axes>"
      ]
     },
     "metadata": {},
     "output_type": "display_data"
    },
    {
     "data": {
      "image/png": "[encoded data removed]",
      "text/plain": [
       "<Figure size 640x480 with 1 Axes>"
      ]
     },
     "metadata": {},
     "output_type": "display_data"
    }
   ],
   "source": [
    "import matplotlib.pyplot as plt\n",
    "plt.figure()\n",
    "plt.plot(iter_list)\n",
    "plt.show()\n",
    "\n",
    "plt.figure()\n",
    "plt.semilogy(res_list)\n",
    "plt.semilogy(true_res_list)\n",
    "plt.show()\n",
    "\n",
    "plt.figure()\n",
    "plt.semilogy(err_list)\n",
    "plt.show()"
   ]
  },
  {
   "cell_type": "code",
   "execution_count": null,
   "metadata": {},
   "outputs": [],
   "source": [
    "import matplotlib.pyplot as plt\n",
    "plt.figure()\n",
    "plt.plot(iter_list)\n",
    "plt.show()\n",
    "\n",
    "plt.figure()\n",
    "plt.semilogy(res_list)\n",
    "plt.semilogy(true_res_list)\n",
    "plt.show()\n",
    "\n",
    "plt.figure()\n",
    "plt.semilogy(err_list)\n",
    "plt.show()"
   ]
  },
  {
   "cell_type": "code",
   "execution_count": null,
   "metadata": {},
   "outputs": [],
   "source": [
    "import numpy as np\n",
    "from scipy.sparse.linalg import gmres, LinearOperator\n",
    "\n",
    "iter_list = []\n",
    "res_list = []\n",
    "true_res_list = []\n",
    "err_list = []\n",
    "Z = None\n",
    "Z_list = []\n",
    "x_sol = None\n",
    "\n",
    "warm_up = 716\n",
    "\n",
    "for index in range(716):\n",
    "    rhs_vec = np.concatenate([rhs_u[index], rhs_p[index]])\n",
    "    sol_vec = np.concatenate([sol_u[index], sol_p[index]])\n",
    "    if index < warm_up:\n",
    "        x_sol, iters, res_hist = deflated_fgmres(A_mat, rhs_vec, Pt_inv, maxits=30, tol=1e-14, x0 = x_sol)\n",
    "    else:\n",
    "        x_sol, iters, res_hist = deflated_fgmres(A_mat, rhs_vec, Pt_inv, maxits=30, tol=1e-14, Z=Z)\n",
    "\n",
    "    # Z_list.append(x_sol)\n",
    "    # if index >= (warm_up - 1):\n",
    "    #     Z = np.column_stack(Z_list[index - (warm_up - 1):])\n",
    "    #     Z, _ = np.linalg.qr(Z)\n",
    "\n",
    "    # if Z is None:\n",
    "    #     if np.linalg.norm(x_sol) > 0:\n",
    "    #         Z = x_sol / np.linalg.norm(x_sol)\n",
    "    #         Z = Z.reshape(-1, 1)\n",
    "    # else:\n",
    "    #     Z = extend_orthonormal_basis(Z, x_sol.reshape(-1,1), droptol=1e-6, max_size=100, verbose=True)\n",
    "    #     if index % 100 == 15:\n",
    "    #         Z, _ = np.linalg.qr(Z)\n",
    "\n",
    "    iter_list.append(iters)\n",
    "    res_list.append(np.linalg.norm(A_mat(x_sol) - rhs_vec)/np.linalg.norm(rhs_vec))\n",
    "    true_res_list.append(np.linalg.norm(A_mat(sol_vec) - rhs_vec)/np.linalg.norm(rhs_vec))\n",
    "    err_list.append(np.linalg.norm(x_sol - sol_vec)/np.linalg.norm(sol_vec))\n",
    "    print(f\"Inex {index}: {iters}, {np.linalg.norm(A_mat(x_sol) - rhs_vec)/np.linalg.norm(rhs_vec)}, {np.linalg.norm(x_sol - sol_vec)/np.linalg.norm(sol_vec)} {np.linalg.norm(A_mat(sol_vec) - rhs_vec)/np.linalg.norm(rhs_vec)}\")\n",
    "\n",
    "print(f\"Number of iterations: {iters}\")\n",
    "print(f\"Relative residual: {res_hist[-1]}\")\n",
    "print(f\"Relative error: {np.linalg.norm(x_sol - sol_vec)/np.linalg.norm(sol_vec)}\")"
   ]
  },
  {
   "cell_type": "code",
   "execution_count": null,
   "metadata": {},
   "outputs": [],
   "source": [
    "import matplotlib.pyplot as plt\n",
    "plt.figure()\n",
    "plt.plot(iter_list)\n",
    "plt.show()\n",
    "\n",
    "plt.figure()\n",
    "plt.semilogy(res_list)\n",
    "plt.semilogy(true_res_list)\n",
    "plt.show()\n",
    "\n",
    "plt.figure()\n",
    "plt.semilogy(err_list)\n",
    "plt.show()"
   ]
  }
 ],
 "metadata": {
  "kernelspec": {
   "display_name": "dolfinx-env",
   "language": "python",
   "name": "python3"
  },
  "language_info": {
   "codemirror_mode": {
    "name": "ipython",
    "version": 3
   },
   "file_extension": ".py",
   "mimetype": "text/x-python",
   "name": "python",
   "nbconvert_exporter": "python",
   "pygments_lexer": "ipython3",
   "version": "3.12.3"
  }
 },
 "nbformat": 4,
 "nbformat_minor": 2
}
