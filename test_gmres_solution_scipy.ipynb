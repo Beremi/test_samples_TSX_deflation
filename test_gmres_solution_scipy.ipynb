{
 "cells": [
  {
   "cell_type": "code",
   "execution_count": null,
   "metadata": {},
   "outputs": [],
   "source": [
    "from operators import BlockMatrixOperator, BlockTriangularPreconditioner\n",
    "from tunnel_with_subdomains import load_matrices_from_hdf5, load_vectors_from_hdf5\n",
    "\n",
    "problem_no = 19\n",
    "path_to_data = f\"exported_data/testrun_{problem_no}/\"\n",
    "\n",
    "# loading\n",
    "A_blocks = load_matrices_from_hdf5(f\"{path_to_data}data_as_blocks.h5\")\n",
    "Ptdiagblocks = load_matrices_from_hdf5(f\"{path_to_data}data_diag_preco.h5\")\n",
    "Ptblocks = load_matrices_from_hdf5(f\"{path_to_data}data_triang_preco.h5\")\n",
    "rhs_u, rhs_p = load_vectors_from_hdf5(f\"{path_to_data}data_rhs.h5\")  # each rhs_* is a list of ndarrays\n",
    "sol_u, sol_p = load_vectors_from_hdf5(f\"{path_to_data}data_sol.h5\")  # each rhs_* is a list of ndarrays"
   ]
  },
  {
   "cell_type": "code",
   "execution_count": null,
   "metadata": {},
   "outputs": [],
   "source": [
    "import numpy as np\n",
    "from numpy.linalg import norm\n",
    "from scipy.sparse.linalg import gmres, LinearOperator\n",
    "\n",
    "A_mat = BlockMatrixOperator(A_blocks)\n",
    "Pt_inv = BlockTriangularPreconditioner(Ptblocks, False)\n",
    "# Pt_inv = BlockTriangularPreconditioner(Ptdiagblocks, False)\n",
    "\n",
    "# Define the preconditioned operator\n",
    "A = LinearOperator(A_mat.shape, matvec=A_mat)\n",
    "M = LinearOperator(Pt_inv.shape, matvec=Pt_inv)"
   ]
  },
  {
   "cell_type": "code",
   "execution_count": null,
   "metadata": {},
   "outputs": [],
   "source": [
    "iter_list = []\n",
    "res_list = []\n",
    "true_res_list = []\n",
    "err_list = []\n",
    "Z = None\n",
    "Z_list = []\n",
    "x_sol = None\n",
    "\n",
    "warm_up = 10\n",
    "maxit = 8\n",
    "\n",
    "for index in range(10):  # max is 716\n",
    "    rhs_vec = np.concatenate([rhs_u[index], rhs_p[index]])\n",
    "    sol_vec = np.concatenate([sol_u[index], sol_p[index]])\n",
    "\n",
    "    # Define a callback function to store residuals\n",
    "    residuals = []\n",
    "    def callback(resid):\n",
    "        residuals.append(resid)\n",
    "\n",
    "    if index > 0 and res_list[-1] < 1e-10:\n",
    "        maxit -= 1\n",
    "    # Solve the system using GMRES\n",
    "    x_sol, info = gmres(A, rhs_vec, M=M, rtol=1e-16, maxiter=maxit, callback=callback, x0=x_sol)\n",
    "\n",
    "    # Extract number of iterations (info > 0 indicates it stopped at maxit)\n",
    "    num_iterations = len(residuals)\n",
    "\n",
    "    iter_list.append(num_iterations)\n",
    "    res_list.append(norm(M(A(x_sol) - rhs_vec)) / norm(rhs_vec))\n",
    "    true_res_list.append(norm(M(A(sol_vec) - rhs_vec)) / norm(rhs_vec))\n",
    "    err_list.append(norm(x_sol - sol_vec) / norm(sol_vec))\n",
    "    print(f\"Index {index}: {iter_list[-1]}, {res_list[-1]}, {err_list[-1]} {true_res_list[-1]}\")"
   ]
  },
  {
   "cell_type": "code",
   "execution_count": null,
   "metadata": {},
   "outputs": [],
   "source": [
    "import matplotlib.pyplot as plt\n",
    "plt.semilogy(residuals)"
   ]
  },
  {
   "cell_type": "code",
   "execution_count": null,
   "metadata": {},
   "outputs": [],
   "source": [
    "import matplotlib.pyplot as plt\n",
    "plt.figure()\n",
    "plt.plot(iter_list)\n",
    "plt.show()\n",
    "\n",
    "plt.figure()\n",
    "plt.semilogy(res_list)\n",
    "plt.semilogy(true_res_list)\n",
    "plt.show()\n",
    "\n",
    "plt.figure()\n",
    "plt.semilogy(err_list)\n",
    "plt.show()"
   ]
  }
 ],
 "metadata": {
  "kernelspec": {
   "display_name": "dolfinx-env",
   "language": "python",
   "name": "python3"
  },
  "language_info": {
   "codemirror_mode": {
    "name": "ipython",
    "version": 3
   },
   "file_extension": ".py",
   "mimetype": "text/x-python",
   "name": "python",
   "nbconvert_exporter": "python",
   "pygments_lexer": "ipython3",
   "version": "3.12.3"
  }
 },
 "nbformat": 4,
 "nbformat_minor": 2
}
